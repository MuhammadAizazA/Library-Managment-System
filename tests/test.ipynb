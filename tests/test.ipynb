{
 "cells": [
  {
   "cell_type": "code",
   "execution_count": 2,
   "metadata": {},
   "outputs": [
    {
     "name": "stdout",
     "output_type": "stream",
     "text": [
      "Incorrect pattern. Please enter a valid 13-digit ISBN.\n",
      "Correct pattern\n"
     ]
    }
   ],
   "source": [
    "import re\n",
    "\n",
    "pattern = r\"(97[8|9]-\\d{1,5}-\\d{1,7}-\\d{1,6}-\\d)\"\n",
    "\n",
    "if __name__ == \"__main__\":\n",
    "    while True:\n",
    "        isbn = input('Enter the book ISBN(13 digits): ')\n",
    "        if len(isbn)==17:\n",
    "            if re.fullmatch(pattern, isbn):\n",
    "                print('Correct pattern')\n",
    "                break\n",
    "            else:\n",
    "                print('Incorrect pattern. Please enter a valid 13-digit ISBN.')"
   ]
  },
  {
   "cell_type": "code",
   "execution_count": 3,
   "metadata": {},
   "outputs": [],
   "source": [
    "class Book:\n",
    "    def __init__(self, title, auther, isbn, quantity_avalible):\n",
    "        self.title = title\n",
    "        self.auther = auther\n",
    "        self.isbn = isbn\n",
    "        self.quantity_avalible = quantity_avalible\n",
    "\n",
    "    def check_avalibility_book(self) -> bool:\n",
    "        if self.quantity_available > 0:\n",
    "            return True\n",
    "        else:\n",
    "            return False"
   ]
  },
  {
   "cell_type": "code",
   "execution_count": 27,
   "metadata": {},
   "outputs": [],
   "source": [
    "import csv\n",
    "class FictionBook(Book):\n",
    "    def __init__(self, title, auther, isbn, quantity_avalible, genre):\n",
    "        super().__init__(title, auther, isbn, quantity_avalible)\n",
    "        self.genre = genre\n",
    "\n",
    "    def __str__(self):\n",
    "        return f'{self.title}, {self.auther}, {self.isbn}, {self.quantity_avalible}, {self.genre}'\n",
    "\n",
    "    def save_to_file(self):\n",
    "        data_to_append = {\n",
    "            'title': self.title,\n",
    "            'author': self.auther,\n",
    "            'isbn': self.isbn,\n",
    "            'quantity_available': self.quantity_avalible,\n",
    "            'genre': self.genre\n",
    "        }\n",
    "\n",
    "        with open('fictionbooks.csv', 'a', newline='\\n') as file:\n",
    "            writer = csv.writer(file)\n",
    "            writer.writerow(data_to_append)"
   ]
  },
  {
   "cell_type": "code",
   "execution_count": 28,
   "metadata": {},
   "outputs": [],
   "source": [
    "obj=FictionBook('title', 'author', 'isbn', 'num_of_copies', 'genre_dict')"
   ]
  },
  {
   "cell_type": "code",
   "execution_count": 29,
   "metadata": {},
   "outputs": [],
   "source": [
    "obj.save_to_file()"
   ]
  }
 ],
 "metadata": {
  "kernelspec": {
   "display_name": ".venv",
   "language": "python",
   "name": "python3"
  },
  "language_info": {
   "codemirror_mode": {
    "name": "ipython",
    "version": 3
   },
   "file_extension": ".py",
   "mimetype": "text/x-python",
   "name": "python",
   "nbconvert_exporter": "python",
   "pygments_lexer": "ipython3",
   "version": "3.11.7"
  }
 },
 "nbformat": 4,
 "nbformat_minor": 2
}
